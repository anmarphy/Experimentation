{
 "cells": [
  {
   "cell_type": "markdown",
   "metadata": {},
   "source": [
    "# Comprehension List"
   ]
  },
  {
   "cell_type": "code",
   "execution_count": 6,
   "metadata": {},
   "outputs": [
    {
     "name": "stdout",
     "output_type": "stream",
     "text": [
      "2\n",
      "2\n",
      "2\n",
      "2\n",
      "[[0, 0, 0], [0, 0, 1], [0, 1, 0], [0, 1, 2], [0, 2, 1], [0, 2, 2], [1, 0, 0], [1, 0, 2], [1, 1, 1], [1, 1, 2], [1, 2, 0], [1, 2, 1], [1, 2, 2], [2, 0, 1], [2, 0, 2], [2, 1, 0], [2, 1, 1], [2, 1, 2], [2, 2, 0], [2, 2, 1], [2, 2, 2]]\n"
     ]
    }
   ],
   "source": [
    "if __name__ == '__main__':\n",
    "    x = int(input())\n",
    "    y = int(input())\n",
    "    z = int(input())\n",
    "    n = int(input())\n",
    "    l=[[i, j, k]  for i in range(0, x+1) for j in range(0,y+1) for k in range(0,z+1) if i+j+k != n]\n",
    "    print(l)"
   ]
  },
  {
   "cell_type": "markdown",
   "metadata": {},
   "source": [
    "# Nested List"
   ]
  },
  {
   "cell_type": "code",
   "execution_count": 61,
   "metadata": {},
   "outputs": [
    {
     "name": "stdout",
     "output_type": "stream",
     "text": [
      "4\n",
      "Erick\n",
      "45.2\n",
      "Damian\n",
      "32.9\n",
      "Charles\n",
      "32.9\n",
      "Mathew\n",
      "2\n",
      "[2.0, 32.9, 32.9, 45.2]\n",
      "[2.0, 32.9, 45.2]\n",
      "32.9\n",
      "{'Damian': 32.9, 'Charles': 32.9}\n",
      "Charles\n",
      "Damian\n"
     ]
    }
   ],
   "source": [
    "set_grades={}\n",
    "if __name__ == '__main__':\n",
    "    for _ in range(int(input())):\n",
    "        name = input()\n",
    "        score = float(input())\n",
    "        set_grades.update({name: score})\n",
    "    grades=sorted(list(set_grades.values()))\n",
    "    \n",
    "    l=[]\n",
    "    for i in grades:\n",
    "        if i in l:\n",
    "            continue\n",
    "        else: l.append(i)\n",
    "    \n",
    "    second_lowest=l[1]\n",
    "\n",
    "    new_dic={ key: value for (key, value) in set_grades.items() if value==second_lowest}\n",
    "    names=sorted(new_dic.keys())\n",
    "    \n",
    "    print(grades)\n",
    "    print(l)\n",
    "    print(second_lowest)\n",
    "    print(new_dic)\n",
    "    for name in names:\n",
    "        print(name)"
   ]
  },
  {
   "cell_type": "markdown",
   "metadata": {},
   "source": [
    "## Lists"
   ]
  },
  {
   "cell_type": "code",
   "execution_count": 8,
   "metadata": {},
   "outputs": [
    {
     "name": "stdout",
     "output_type": "stream",
     "text": [
      "2\n",
      "H 25 26.5 28\n",
      "A 26 28 30\n",
      "H\n",
      "26.50\n"
     ]
    }
   ],
   "source": [
    "if __name__ == '__main__':\n",
    "    n = int(input())\n",
    "    student_marks = {}\n",
    "    for _ in range(n):\n",
    "        name, *line = input().split()\n",
    "        scores = list(map(float, line))\n",
    "        student_marks[name] = scores\n",
    "    query_name = input()\n",
    "    \n",
    "    avg=sum(student_marks[query_name])/len(student_marks[query_name])\n",
    "    print(\"%.2f\" % avg)"
   ]
  },
  {
   "cell_type": "code",
   "execution_count": 19,
   "metadata": {},
   "outputs": [
    {
     "name": "stdout",
     "output_type": "stream",
     "text": [
      "2\n",
      "[2]\n"
     ]
    }
   ],
   "source": [
    "if __name__ == '__main__':\n",
    "    N = int(input())\n",
    "    l=[]\n",
    "    l.append(N)\n",
    "    print(l)"
   ]
  },
  {
   "cell_type": "markdown",
   "metadata": {},
   "source": [
    "## Tuples"
   ]
  },
  {
   "cell_type": "code",
   "execution_count": 17,
   "metadata": {},
   "outputs": [
    {
     "name": "stdout",
     "output_type": "stream",
     "text": [
      "2\n",
      "1 2\n",
      "-3550055125485641917\n"
     ]
    }
   ],
   "source": [
    "if __name__ == '__main__':\n",
    "    n = int(input())\n",
    "    integer_list = map(int, input().split())\n",
    "    tuple_l=tuple(integer_list)\n",
    "    hash_l=hash(tuple_l)\n",
    "    print(hash_l)\n",
    "    "
   ]
  },
  {
   "cell_type": "markdown",
   "metadata": {},
   "source": [
    "## Print"
   ]
  },
  {
   "cell_type": "code",
   "execution_count": 34,
   "metadata": {},
   "outputs": [
    {
     "name": "stdout",
     "output_type": "stream",
     "text": [
      "Andrea\n",
      "Marcela\n",
      "Hello Andrea Marcela! You just delved into python.\n"
     ]
    }
   ],
   "source": [
    "if __name__ == '__main__':\n",
    "    first_name=input()\n",
    "    last_name=input()\n",
    "    name= first_name+' ' + last_name+'!'\n",
    "    print('Hello {} You just delved into python.'.format(name) )"
   ]
  },
  {
   "cell_type": "markdown",
   "metadata": {},
   "source": [
    "## Mutations"
   ]
  },
  {
   "cell_type": "code",
   "execution_count": 49,
   "metadata": {},
   "outputs": [],
   "source": [
    "def mutate_string(string, position, character):\n",
    "    string=list(string)\n",
    "    string[position]=character\n",
    "    string_f=''.join(map(str, string))\n",
    "    return string_f"
   ]
  },
  {
   "cell_type": "code",
   "execution_count": 50,
   "metadata": {},
   "outputs": [
    {
     "data": {
      "text/plain": [
       "'AnFrea'"
      ]
     },
     "execution_count": 50,
     "metadata": {},
     "output_type": "execute_result"
    }
   ],
   "source": [
    "mutate_string('Andrea', 2, 'F')"
   ]
  },
  {
   "cell_type": "code",
   "execution_count": 54,
   "metadata": {},
   "outputs": [
    {
     "name": "stdout",
     "output_type": "stream",
     "text": [
      "Andrea 2 F\n",
      "AnFrea\n"
     ]
    }
   ],
   "source": [
    "if __name__ == '__main__':\n",
    "    #s = input()\n",
    "    s, i, c = input().split()\n",
    "    s_new = mutate_string(s, int(i), c)\n",
    "    print(s_new)"
   ]
  },
  {
   "cell_type": "markdown",
   "metadata": {},
   "source": [
    "## Strings"
   ]
  },
  {
   "cell_type": "code",
   "execution_count": 34,
   "metadata": {},
   "outputs": [],
   "source": [
    "def count_substring(string, sub_string):\n",
    "    \n",
    "    words=0\n",
    "    l=[]\n",
    "    for i in range(0,len(string)):\n",
    "        sub_strings=string[i:i+len(sub_string)]\n",
    "        l.append(sub_strings)\n",
    "    \n",
    "    for sub in l:\n",
    "        if len(sub)==len(sub_string):\n",
    "            \n",
    "            count=0\n",
    "            for j in range(0, len(sub_string)):\n",
    "                if sub[j]==sub_string[j]:\n",
    "                    count+=1\n",
    "                else: continue\n",
    "                \n",
    "            if count==len(sub_string):\n",
    "                words+=1\n",
    "                \n",
    "        else: continue \n",
    "         \n",
    "    return words\n",
    "        "
   ]
  },
  {
   "cell_type": "code",
   "execution_count": 35,
   "metadata": {},
   "outputs": [
    {
     "data": {
      "text/plain": [
       "2"
      ]
     },
     "execution_count": 35,
     "metadata": {},
     "output_type": "execute_result"
    }
   ],
   "source": [
    "count_substring('abcdcdc', 'cdc')"
   ]
  },
  {
   "cell_type": "markdown",
   "metadata": {},
   "source": [
    "## String split and join"
   ]
  },
  {
   "cell_type": "code",
   "execution_count": 38,
   "metadata": {},
   "outputs": [],
   "source": [
    "def split_and_join(line):\n",
    "    l=line.split(' ')\n",
    "    s='-'.join(l)\n",
    "    return s"
   ]
  },
  {
   "cell_type": "code",
   "execution_count": 39,
   "metadata": {},
   "outputs": [
    {
     "data": {
      "text/plain": [
       "'Hello-word'"
      ]
     },
     "execution_count": 39,
     "metadata": {},
     "output_type": "execute_result"
    }
   ],
   "source": [
    "split_and_join('Hello word')"
   ]
  },
  {
   "cell_type": "markdown",
   "metadata": {},
   "source": [
    "## String validators"
   ]
  },
  {
   "cell_type": "code",
   "execution_count": null,
   "metadata": {},
   "outputs": [],
   "source": [
    "if __name__ == '__main__':\n",
    "    s = input()\n",
    "    alphanum=\n",
    "    alpha=\n",
    "    digits=\n",
    "    lower=\n",
    "    upper="
   ]
  },
  {
   "cell_type": "code",
   "execution_count": 49,
   "metadata": {},
   "outputs": [],
   "source": [
    "s='s664·'"
   ]
  },
  {
   "cell_type": "code",
   "execution_count": 59,
   "metadata": {},
   "outputs": [
    {
     "name": "stdout",
     "output_type": "stream",
     "text": [
      "True\n",
      "True\n",
      "True\n",
      "True\n"
     ]
    }
   ],
   "source": [
    "alpha_num=0\n",
    "alpha=0\n",
    "digit=0\n",
    "lower=0\n",
    "upper=0\n",
    "\n",
    "for i in s:\n",
    "    if i.isalnum()==True:\n",
    "        alpha_num+=1\n",
    "    if i.isalpha()==True:\n",
    "        alpha+=1\n",
    "    if i.isdigit()==True:\n",
    "        digit+=1\n",
    "    if i.islower()==True:\n",
    "        lower+=1\n",
    "    if i.isupper()==True:\n",
    "        upper+=1\n",
    "    \n",
    "    \n",
    "features=[alpha_num, alpha, digit, lower, upper]\n",
    "for feature in features:\n",
    "    if feature>0:\n",
    "        print('True')\n",
    "    else: print('False')\n",
    "    \n",
    "        "
   ]
  },
  {
   "cell_type": "markdown",
   "metadata": {},
   "source": [
    "## sWAP cAse"
   ]
  },
  {
   "cell_type": "code",
   "execution_count": 38,
   "metadata": {},
   "outputs": [],
   "source": [
    "def swap_case(s):\n",
    "    new_s =''\n",
    "    for i in s:\n",
    "        if i.islower()==True:\n",
    "            new_s+=(i.upper())\n",
    "        else: \n",
    "            new_s+=(i.lower())\n",
    "    return new_s"
   ]
  },
  {
   "cell_type": "code",
   "execution_count": 39,
   "metadata": {},
   "outputs": [
    {
     "data": {
      "text/plain": [
       "'lOVE'"
      ]
     },
     "execution_count": 39,
     "metadata": {},
     "output_type": "execute_result"
    }
   ],
   "source": [
    "swap_case('Love')"
   ]
  },
  {
   "cell_type": "markdown",
   "metadata": {},
   "source": [
    "## Text Alignment"
   ]
  },
  {
   "cell_type": "code",
   "execution_count": 41,
   "metadata": {},
   "outputs": [
    {
     "name": "stdout",
     "output_type": "stream",
     "text": [
      "HackerRank----------\n"
     ]
    }
   ],
   "source": [
    "width = 20\n",
    "print ('HackerRank'.ljust(width,'-'))"
   ]
  },
  {
   "cell_type": "code",
   "execution_count": 55,
   "metadata": {},
   "outputs": [
    {
     "name": "stdout",
     "output_type": "stream",
     "text": [
      "5\n",
      "    H    \n",
      "   HHH   \n",
      "  HHHHH  \n",
      " HHHHHHH \n",
      "HHHHHHHHH\n",
      "  HHHHH               HHHHH             \n",
      "  HHHHH               HHHHH             \n",
      "  HHHHH               HHHHH             \n",
      "  HHHHH               HHHHH             \n",
      "  HHHHH               HHHHH             \n",
      "  HHHHH               HHHHH             \n",
      "  HHHHHHHHHHHHHHHHHHHHHHHHH   \n",
      "  HHHHHHHHHHHHHHHHHHHHHHHHH   \n",
      "  HHHHHHHHHHHHHHHHHHHHHHHHH   \n",
      "  HHHHH               HHHHH             \n",
      "  HHHHH               HHHHH             \n",
      "  HHHHH               HHHHH             \n",
      "  HHHHH               HHHHH             \n",
      "  HHHHH               HHHHH             \n",
      "  HHHHH               HHHHH             \n",
      "                    HHHHHHHHH \n",
      "                     HHHHHHH  \n",
      "                      HHHHH   \n",
      "                       HHH    \n",
      "                        H     \n"
     ]
    }
   ],
   "source": [
    "thickness = int(input()) #This must be an odd number\n",
    "c = 'H'\n",
    "\n",
    "#Top Cone\n",
    "for i in range(thickness):\n",
    "    print((c*i).rjust(thickness-1)+c+(c*i).ljust(thickness-1))\n",
    "\n",
    "#Top Pillars\n",
    "for i in range(thickness+1):\n",
    "    print((c*thickness).center(thickness*2)+(c*thickness).center(thickness*6))\n",
    "\n",
    "#Middle Belt\n",
    "for i in range((thickness+1)//2):\n",
    "    print((c*thickness*5).center(thickness*6))    \n",
    "\n",
    "#Bottom Pillars\n",
    "for i in range(thickness+1):\n",
    "    print((c*thickness).center(thickness*2)+(c*thickness).center(thickness*6))    \n",
    "\n",
    "#Bottom Cone\n",
    "for i in range(thickness):\n",
    "    print(((c*(thickness-i-1)).rjust(thickness)+c+(c*(thickness-i-1)).ljust(thickness)).rjust(thickness*6))"
   ]
  },
  {
   "cell_type": "markdown",
   "metadata": {},
   "source": [
    "## Text Wrap"
   ]
  },
  {
   "cell_type": "code",
   "execution_count": 84,
   "metadata": {},
   "outputs": [],
   "source": [
    "import textwrap\n",
    "\n",
    "def wrap(string, max_width):\n",
    "    wrapping=textwrap.wrap(string, max_width)\n",
    "    for i in range(0, len(wrapping)):\n",
    "        print(wrapping[i])"
   ]
  },
  {
   "cell_type": "code",
   "execution_count": 90,
   "metadata": {},
   "outputs": [
    {
     "name": "stdout",
     "output_type": "stream",
     "text": [
      "ABCD\n",
      "\n",
      "ABCD\n",
      "EFGH\n",
      "\n",
      "ABCD\n",
      "EFGH\n",
      "IJKL\n",
      "\n",
      "ABCD\n",
      "EFGH\n",
      "IJKL\n",
      "IMNO\n",
      "\n",
      "ABCD\n",
      "EFGH\n",
      "IJKL\n",
      "IMNO\n",
      "QRST\n",
      "\n",
      "ABCD\n",
      "EFGH\n",
      "IJKL\n",
      "IMNO\n",
      "QRST\n",
      "UVWX\n",
      "\n",
      "ABCD\n",
      "EFGH\n",
      "IJKL\n",
      "IMNO\n",
      "QRST\n",
      "UVWX\n",
      "YZ\n",
      "\n"
     ]
    }
   ],
   "source": [
    "wrap('ABCDEFGHIJKLIMNOQRSTUVWXYZ',4)"
   ]
  },
  {
   "cell_type": "code",
   "execution_count": 100,
   "metadata": {},
   "outputs": [],
   "source": [
    "\n",
    "def wrap(string, max_width):\n",
    "    news=''\n",
    "    \n",
    "    wrapping=textwrap.wrap(string, max_width)\n",
    "    for i in range(0, len(wrapping)):\n",
    "        news+=(wrapping[i]+ '\\n')\n",
    "    return(news)"
   ]
  },
  {
   "cell_type": "code",
   "execution_count": 101,
   "metadata": {},
   "outputs": [
    {
     "name": "stdout",
     "output_type": "stream",
     "text": [
      "agrettgr\n",
      "4\n",
      "agre\n",
      "ttgr\n",
      "\n"
     ]
    }
   ],
   "source": [
    "if __name__ == '__main__':\n",
    "    string, max_width = input(), int(input())\n",
    "    result = wrap(string, max_width)\n",
    "    print(result)"
   ]
  },
  {
   "cell_type": "markdown",
   "metadata": {},
   "source": [
    "## String Formatting"
   ]
  },
  {
   "cell_type": "code",
   "execution_count": 145,
   "metadata": {},
   "outputs": [
    {
     "name": "stdout",
     "output_type": "stream",
     "text": [
      "1  1  1  1\n",
      "2  2  2  10\n",
      "3  3  3  11\n",
      "4  4  4  100\n",
      "5  5  5  101\n",
      "6  6  6  110\n",
      "7  7  7  111\n",
      "8  10  8  1000\n",
      "9  11  9  1001\n",
      "10  12  a  1010\n",
      "11  13  b  1011\n",
      "12  14  c  1100\n",
      "13  15  d  1101\n",
      "14  16  e  1110\n",
      "15  17  f  1111\n",
      "16  20  10  10000\n",
      "17  21  11  10001\n"
     ]
    }
   ],
   "source": [
    "## Decimal ## Octal  ## Hexadecimal  ##Binary\n",
    "for i in range(1, n+1):\n",
    "    print(i, '' ,oct(i)[2:], '', hex(i)[2:], '', bin(i)[2:])\n",
    "    "
   ]
  },
  {
   "cell_type": "code",
   "execution_count": 124,
   "metadata": {},
   "outputs": [],
   "source": [
    "n=17"
   ]
  },
  {
   "cell_type": "code",
   "execution_count": 135,
   "metadata": {},
   "outputs": [
    {
     "name": "stdout",
     "output_type": "stream",
     "text": [
      "    1     1     1     1\n",
      "    2     2     2    10\n",
      "    3     3     3    11\n",
      "    4     4     4   100\n",
      "    5     5     5   101\n",
      "    6     6     6   110\n",
      "    7     7     7   111\n",
      "    8    10     8  1000\n",
      "    9    11     9  1001\n",
      "   10    12     A  1010\n",
      "   11    13     B  1011\n",
      "   12    14     C  1100\n",
      "   13    15     D  1101\n",
      "   14    16     E  1110\n",
      "   15    17     F  1111\n",
      "   16    20    10 10000\n",
      "   17    21    11 10001\n"
     ]
    }
   ],
   "source": [
    "width = len(\"{0:b}\".format(n)) #len binary representation\n",
    "for i in range(1,n+1):\n",
    "    print (\"{0:{width}d} {0:{width}o} {0:{width}X} {0:{width}b}\".format(i, width=width))"
   ]
  },
  {
   "cell_type": "code",
   "execution_count": 136,
   "metadata": {},
   "outputs": [
    {
     "name": "stdout",
     "output_type": "stream",
     "text": [
      "5\n"
     ]
    }
   ],
   "source": [
    "print(width)"
   ]
  },
  {
   "cell_type": "code",
   "execution_count": 139,
   "metadata": {},
   "outputs": [
    {
     "name": "stdout",
     "output_type": "stream",
     "text": [
      "   17    21    11 10001\n"
     ]
    }
   ],
   "source": [
    "print (\"{0:{width}d} {0:{width}o} {0:{width}X} {0:{width}b}\".format(17, width=width))"
   ]
  },
  {
   "cell_type": "code",
   "execution_count": 144,
   "metadata": {},
   "outputs": [
    {
     "name": "stdout",
     "output_type": "stream",
     "text": [
      "   21\n"
     ]
    }
   ],
   "source": [
    "print('{0:{width}o}'.format(17, width=width))"
   ]
  },
  {
   "cell_type": "markdown",
   "metadata": {},
   "source": [
    "## Capitalize"
   ]
  },
  {
   "cell_type": "code",
   "execution_count": 10,
   "metadata": {},
   "outputs": [],
   "source": [
    "def solve(s):\n",
    "    l=s.split(' ')\n",
    "    for j in range(0, len(l)):\n",
    "        new_s=''\n",
    "        for i in range(0, len(l[j])):\n",
    "            if i==0:\n",
    "                new_s=''.join(l[j][0].upper())\n",
    "            else:\n",
    "                new_s+=l[j][i]\n",
    "        l[j]=new_s\n",
    "        \n",
    "        final_s=' '.join(l)\n",
    "    return(final_s)"
   ]
  },
  {
   "cell_type": "code",
   "execution_count": 11,
   "metadata": {},
   "outputs": [
    {
     "data": {
      "text/plain": [
       "'Andrea Arcel'"
      ]
     },
     "execution_count": 11,
     "metadata": {},
     "output_type": "execute_result"
    }
   ],
   "source": [
    "solve('andrea arcel')"
   ]
  },
  {
   "cell_type": "markdown",
   "metadata": {},
   "source": [
    "## Alphabet Rangoli"
   ]
  },
  {
   "cell_type": "code",
   "execution_count": 175,
   "metadata": {},
   "outputs": [
    {
     "name": "stdout",
     "output_type": "stream",
     "text": [
      "8\n",
      "--------------h--------------\n",
      "------------h-g-h------------\n",
      "----------h-g-f-g-h----------\n",
      "--------h-g-f-e-f-g-h--------\n",
      "------h-g-f-e-d-e-f-g-h------\n",
      "----h-g-f-e-d-c-d-e-f-g-h----\n",
      "--h-g-f-e-d-c-b-c-d-e-f-g-h--\n",
      "h-g-f-e-d-c-b-a-b-c-d-e-f-g-h\n",
      "--h-g-f-e-d-c-b-c-d-e-f-g-h--\n",
      "----h-g-f-e-d-c-d-e-f-g-h----\n",
      "------h-g-f-e-d-e-f-g-h------\n",
      "--------h-g-f-e-f-g-h--------\n",
      "----------h-g-f-g-h----------\n",
      "------------h-g-h------------\n",
      "--------------h--------------\n"
     ]
    }
   ],
   "source": [
    "N=int(input())\n",
    "l=[]\n",
    "for i in range(97, 97+N):\n",
    "    l.append(chr(i))\n",
    "\n",
    "k=l.copy()\n",
    "\n",
    "for i in range(1, len(k)):\n",
    "    if i==1:\n",
    "        j='-'.join(k[:N-i:-1])+'-'.join(k[N-i:])\n",
    "        d=j.center(4*len(k)-3, '-')\n",
    "    else: \n",
    "        j='-'.join(k[:N-i:-1])+'-'+'-'.join(k[N-i:])\n",
    "        d=j.center(4*len(k)-3,'-')\n",
    "    print(d)\n",
    "\n",
    "\n",
    "for i in range(0, len(k)):\n",
    "    if i== len(k)-1:\n",
    "        j='-'.join(k[:i:-1])+''+'-'.join(k[i:])\n",
    "        d=j.center(4*len(k)-3, '-')\n",
    "    else: \n",
    "        j='-'.join(k[:i:-1])+'-'+'-'.join(k[i:])\n",
    "        d=j.center(4*len(k)-3,'-')\n",
    "    print(d)"
   ]
  },
  {
   "cell_type": "markdown",
   "metadata": {},
   "source": [
    "### Design door mat"
   ]
  },
  {
   "cell_type": "code",
   "execution_count": 6,
   "metadata": {},
   "outputs": [
    {
     "name": "stdout",
     "output_type": "stream",
     "text": [
      "['------------.|.------------', '---------.|..|..|.---------', '------.|..|..|..|..|.------', '---.|..|..|..|..|..|..|.---']\n"
     ]
    }
   ],
   "source": [
    "pattern = [('.|.'*(2*i+1 )).center(m, '-') for i in range(9//2)]\n",
    "print(pattern)"
   ]
  },
  {
   "cell_type": "code",
   "execution_count": 16,
   "metadata": {},
   "outputs": [
    {
     "name": "stdout",
     "output_type": "stream",
     "text": [
      "------------.|.------------\n",
      "---------.|..|..|.---------\n",
      "------.|..|..|..|..|.------\n",
      "---.|..|..|..|..|..|..|.---\n",
      "----------WELCOME----------\n",
      "---.|..|..|..|..|..|..|.---\n",
      "------.|..|..|..|..|.------\n",
      "---------.|..|..|.---------\n",
      "------------.|.------------\n"
     ]
    }
   ],
   "source": [
    "print('\\n'.join(pattern+['WELCOME'.center(m, '-')]+ pattern[::-1])  )"
   ]
  },
  {
   "cell_type": "code",
   "execution_count": 3,
   "metadata": {},
   "outputs": [
    {
     "name": "stdout",
     "output_type": "stream",
     "text": [
      "9 27\n",
      "------------.|.------------\n",
      "---------.|..|..|.---------\n",
      "------.|..|..|..|..|.------\n",
      "---.|..|..|..|..|..|..|.---\n",
      "----------WELCOME----------\n",
      "---.|..|..|..|..|..|..|.---\n",
      "------.|..|..|..|..|.------\n",
      "---------.|..|..|.---------\n",
      "------------.|.------------\n"
     ]
    }
   ],
   "source": [
    "n, m = map(int,input().split())\n",
    "pattern = [('.|.'*(2*i + 1)).center(m, '-') for i in range(n//2)]\n",
    "print('\\n'.join(pattern + ['WELCOME'.center(m, '-')] + pattern[::-1]))"
   ]
  },
  {
   "cell_type": "markdown",
   "metadata": {},
   "source": [
    "## Itertools.product"
   ]
  },
  {
   "cell_type": "code",
   "execution_count": 176,
   "metadata": {},
   "outputs": [],
   "source": [
    "from itertools import product"
   ]
  },
  {
   "cell_type": "code",
   "execution_count": 188,
   "metadata": {},
   "outputs": [],
   "source": [
    "l=[[1,2],[3,4]]"
   ]
  },
  {
   "cell_type": "code",
   "execution_count": 189,
   "metadata": {},
   "outputs": [
    {
     "data": {
      "text/plain": [
       "[([1, 2],), ([3, 4],)]"
      ]
     },
     "execution_count": 189,
     "metadata": {},
     "output_type": "execute_result"
    }
   ],
   "source": [
    "list(product(l))"
   ]
  },
  {
   "cell_type": "code",
   "execution_count": 200,
   "metadata": {},
   "outputs": [
    {
     "name": "stdout",
     "output_type": "stream",
     "text": [
      "1 2\n",
      "3 4\n",
      " (1, 3) (1, 4) (2, 3) (2, 4)\n"
     ]
    }
   ],
   "source": [
    "A=list(map(int, input().split()))\n",
    "B=list(map(int, input().split()))\n",
    "l=[A, B]\n",
    "l=list(product(*l))\n",
    "s=''\n",
    "for i in range(len(l)):\n",
    "    s+= str(l[i])+' '\n",
    "print(s)"
   ]
  },
  {
   "cell_type": "markdown",
   "metadata": {},
   "source": [
    "## Merge the tools"
   ]
  },
  {
   "cell_type": "code",
   "execution_count": 116,
   "metadata": {},
   "outputs": [],
   "source": [
    "def merge_the_tools(s,k):\n",
    "    l=[]\n",
    "    final=[]\n",
    "    sub=len(s)// k\n",
    "\n",
    "    for i in range(0,len(s),sub):\n",
    "        l.append(s[i:sub+i])\n",
    "\n",
    "    for e in l:\n",
    "        l_s=''\n",
    "        for j in e:\n",
    "            if j in l_s:\n",
    "                continue\n",
    "            else: \n",
    "                l_s+=j\n",
    "        final.append(l_s)\n",
    "    \n",
    "    for sub_string in final:\n",
    "        print(sub_string)\n",
    "    \n",
    "    "
   ]
  },
  {
   "cell_type": "code",
   "execution_count": 117,
   "metadata": {},
   "outputs": [
    {
     "name": "stdout",
     "output_type": "stream",
     "text": [
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n",
      "1\n",
      "BWMNAKIJHOZXVGQYPLCEUDSFTR\n"
     ]
    }
   ],
   "source": [
    "if __name__ == '__main__':\n",
    "    string, k = input(), int(input())\n",
    "    merge_the_tools(string, k)"
   ]
  },
  {
   "cell_type": "markdown",
   "metadata": {},
   "source": [
    "## Collections Counter"
   ]
  },
  {
   "cell_type": "code",
   "execution_count": 141,
   "metadata": {},
   "outputs": [
    {
     "name": "stdout",
     "output_type": "stream",
     "text": [
      "10 \n",
      "2 3 4 5 6 8 7 6 5 18\n",
      "6 \n",
      "6 55\n",
      "6 45\n",
      "6 55\n",
      "4 40\n",
      "18 60\n",
      "10 50\n",
      "200\n"
     ]
    }
   ],
   "source": [
    "from collections import Counter\n",
    "l=[]\n",
    "n_shoes=int(input())\n",
    "sizes_shoes=list(map(int, input().split()))\n",
    "sizes_available=Counter(sizes_shoes)\n",
    "n_customers=int(input())\n",
    "while len(l)<n_customers:\n",
    "    l.append(list(map (int, input().split())))\n",
    "\n",
    "inventario=dict()\n",
    "final_l=[]\n",
    "for sub_l in range(len(l)):\n",
    "    if l[sub_l][0] in sizes_available.keys():\n",
    "        if l[sub_l][0] in inventario.keys():\n",
    "                if inventario[l[sub_l][0]]<sizes_available[l[sub_l][0]]:\n",
    "                    final_l.append(l[sub_l])\n",
    "                    #print(final_l)\n",
    "                    inventario[l[sub_l][0]] +=1\n",
    "                    \n",
    "        else: \n",
    "            inventario[l[sub_l][0]]=1 \n",
    "            final_l.append(l[sub_l])\n",
    "            #print(final_l)\n",
    "            \n",
    "    else: continue\n",
    "\n",
    "cost=0\n",
    "for i in range(len(final_l)):\n",
    "    cost+=final_l[i][1]\n",
    "print(cost)"
   ]
  },
  {
   "cell_type": "markdown",
   "metadata": {},
   "source": [
    "## Polar cordinates"
   ]
  },
  {
   "cell_type": "code",
   "execution_count": 21,
   "metadata": {},
   "outputs": [
    {
     "name": "stdout",
     "output_type": "stream",
     "text": [
      "1+2j\n",
      "2.23606797749979 \n",
      " 1.1071487177940904\n"
     ]
    }
   ],
   "source": [
    "import cmath \n",
    "\n",
    "def complex_to_polar(z):\n",
    "    r, theta= cmath.polar(z)\n",
    "    print (r,'\\n', theta)\n",
    "\n",
    "if __name__ == '__main__':\n",
    "    complex_n=complex(input())\n",
    "    complex_to_polar(complex_n)"
   ]
  },
  {
   "cell_type": "markdown",
   "metadata": {},
   "source": [
    "## Triangle quest 2"
   ]
  },
  {
   "cell_type": "code",
   "execution_count": 52,
   "metadata": {},
   "outputs": [
    {
     "name": "stdout",
     "output_type": "stream",
     "text": [
      "1\n",
      "121\n",
      "12321\n",
      "1234321\n",
      "123454321\n"
     ]
    }
   ],
   "source": [
    "def palindrome(n):\n",
    "    for i in range(1,n+1):\n",
    "        print(int('1'*i)**2)\n",
    "palindrome(5)"
   ]
  },
  {
   "cell_type": "code",
   "execution_count": 54,
   "metadata": {},
   "outputs": [
    {
     "name": "stdout",
     "output_type": "stream",
     "text": [
      "5\n",
      "1\n",
      "121\n",
      "12321\n",
      "1234321\n",
      "123454321\n"
     ]
    }
   ],
   "source": [
    "for x in range(1,int(input())+1):\n",
    "    print(((10**x - 1)//9)**2)"
   ]
  },
  {
   "cell_type": "markdown",
   "metadata": {},
   "source": [
    "## The minion game"
   ]
  },
  {
   "cell_type": "code",
   "execution_count": 18,
   "metadata": {},
   "outputs": [
    {
     "name": "stdout",
     "output_type": "stream",
     "text": [
      "BANANA\n"
     ]
    }
   ],
   "source": [
    "if __name__=='__main__':\n",
    "    string=input()"
   ]
  },
  {
   "cell_type": "code",
   "execution_count": 2,
   "metadata": {},
   "outputs": [],
   "source": [
    "def minion_game(string):\n",
    "    \n",
    "    l=[]\n",
    "\n",
    "    for i in range(0,len(string)+1):\n",
    "        for j in range(1,len(string)+1):\n",
    "            if i+j<=len(string):\n",
    "                l.append(string[i:i+j])\n",
    "            else:\n",
    "                continue\n",
    "    #print(l)\n",
    "\n",
    "    vowels=['A','E','I','O','U']\n",
    "    stuart=0\n",
    "    kevin=0\n",
    "    for sub in l:\n",
    "        if sub[0] in vowels:\n",
    "                kevin+=1\n",
    "\n",
    "        else: stuart+=1\n",
    "\n",
    "    if kevin>stuart:\n",
    "        print('Kevin', kevin)\n",
    "    if kevin<stuart:\n",
    "        print('Stuart', stuart)\n",
    "    else:print('Draw')\n",
    "\n"
   ]
  },
  {
   "cell_type": "code",
   "execution_count": 3,
   "metadata": {},
   "outputs": [
    {
     "name": "stdout",
     "output_type": "stream",
     "text": [
      "Stuart 7501500\n"
     ]
    }
   ],
   "source": [
    "minion_game(string)"
   ]
  },
  {
   "cell_type": "code",
   "execution_count": 15,
   "metadata": {},
   "outputs": [],
   "source": [
    "def minion_game(string):\n",
    "\n",
    "    vowels=['A','E','I','O','U']\n",
    "    stuart=0\n",
    "    kevin=0\n",
    "    for element in range(len(string)):\n",
    "        if string[element] in vowels:\n",
    "                kevin+=(len(string)-element)\n",
    "\n",
    "        else: \n",
    "            stuart+=(len(string)-element)\n",
    "\n",
    "    if kevin>stuart:\n",
    "        print('Kevin', kevin)\n",
    "    elif kevin<stuart:\n",
    "        print('Stuart', stuart)\n",
    "    else:print('Draw')"
   ]
  },
  {
   "cell_type": "code",
   "execution_count": 19,
   "metadata": {},
   "outputs": [
    {
     "name": "stdout",
     "output_type": "stream",
     "text": [
      "Stuart 12\n"
     ]
    }
   ],
   "source": [
    "minion_game(string)"
   ]
  },
  {
   "cell_type": "code",
   "execution_count": 17,
   "metadata": {},
   "outputs": [
    {
     "data": {
      "text/plain": [
       "5000"
      ]
     },
     "execution_count": 17,
     "metadata": {},
     "output_type": "execute_result"
    }
   ],
   "source": [
    "len(string)"
   ]
  },
  {
   "cell_type": "markdown",
   "metadata": {},
   "source": [
    "## Find Angle MBC "
   ]
  },
  {
   "cell_type": "code",
   "execution_count": 47,
   "metadata": {},
   "outputs": [
    {
     "name": "stdout",
     "output_type": "stream",
     "text": [
      "10\n",
      "10\n",
      "45°\n"
     ]
    }
   ],
   "source": [
    "import math\n",
    "A=int(input())\n",
    "B=int(input())\n",
    "C=round(math.degrees(math.asin(0.5*((A**2+B**2)**0.5) / B)))\n",
    "print(str(C)+'\\xB0')"
   ]
  },
  {
   "cell_type": "code",
   "execution_count": null,
   "metadata": {},
   "outputs": [],
   "source": []
  }
 ],
 "metadata": {
  "kernelspec": {
   "display_name": "Python 3",
   "language": "python",
   "name": "python3"
  },
  "language_info": {
   "codemirror_mode": {
    "name": "ipython",
    "version": 3
   },
   "file_extension": ".py",
   "mimetype": "text/x-python",
   "name": "python",
   "nbconvert_exporter": "python",
   "pygments_lexer": "ipython3",
   "version": "3.8.5"
  }
 },
 "nbformat": 4,
 "nbformat_minor": 4
}
